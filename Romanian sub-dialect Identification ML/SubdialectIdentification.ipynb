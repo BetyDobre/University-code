{
 "cells": [
  {
   "cell_type": "code",
   "execution_count": 1,
   "metadata": {},
   "outputs": [],
   "source": [
    "#includerea librariilor necesare\n",
    "import numpy as np\n",
    "import pandas as pd\n",
    "from sklearn.metrics import f1_score\n",
    "from sklearn.feature_extraction.text import TfidfVectorizer\n",
    "from sklearn.naive_bayes import MultinomialNB \n",
    "from sklearn.naive_bayes import ComplementNB \n",
    "from sklearn import svm\n",
    "from sklearn.model_selection import GridSearchCV\n",
    "from sklearn.metrics import classification_report\n",
    "from sklearn.metrics import confusion_matrix\n",
    "import matplotlib.pyplot as plt\n",
    "import seaborn as sn"
   ]
  },
  {
   "cell_type": "code",
   "execution_count": 2,
   "metadata": {},
   "outputs": [
    {
     "name": "stdout",
     "output_type": "stream",
     "text": [
      "          id                                               text  label\n",
      "0     104661  ;%fE mr#& crmx temjc@m %'wb: }hHAm@@m ykm=aa E...      1\n",
      "1     112752  sAFW K#xk}t fH@ae m&Xd >h& @# l@Rd}a @Hc liT e...      1\n",
      "2     108151  zgHy% @kA qCrw h@@m he|%WA Eh}W@m mkZrmAah@ @(...      1\n",
      "3     106010  !ck& g@eAh =F; me @Hc Zk&} mk@eAhH jmjAafm >Cg...      1\n",
      "4     100454  zpW hjreaek egae h: (AvnY }e m@p: EjfmZ @x<Yn ...      0\n",
      "...      ...                                                ...    ...\n",
      "7752  106515  Kopv rSUm' EhfZm}a@m Zh@a%p (r=* hZ mgAcke iKk...      0\n",
      "7753  103013  E%<Hh $&FW m*# m*# m*# m*#H ga@#&e }m}H@ h(: m...      1\n",
      "7754  107088  SZU:$ r(<@ k: HHf@ re:@ Hhrfa@m oEgAa m*g hZ N...      1\n",
      "7755  105724  .ZeEq jpxdrl :q H>w; n>lAx c'h$v aAx>= #Wdfi= ...      1\n",
      "7756  103551  Bo=@*( eglc gq> Zh# e@Aah B*kiY D:(sTE g}:@ Ej...      1\n",
      "\n",
      "[7757 rows x 3 columns]\n"
     ]
    }
   ],
   "source": [
    "train_samples = pd.read_csv(\"data/train_samples.txt\", sep=\"\\n\", header=None)\n",
    "\n",
    "#crearea data frame ului cu coloanele id si text pentru datele de train\n",
    "train_samples[\"id\"] = train_samples[0].apply(lambda x: int(x.split(\"\\t\")[0]))\n",
    "train_samples[\"text\"] = train_samples[0].apply(lambda x : x.split(\"\\t\")[1])\n",
    "\n",
    "#eliminarea primei coloane\n",
    "train_samples.drop(train_samples.columns[0], axis = 1, inplace=True)\n",
    "\n",
    "#citirea labelurilor pentru train si adaugarea lor in dataframe\n",
    "train_labels = pd.read_csv(\"data/train_labels.txt\", sep=\"\\t\", header=None)\n",
    "train_samples[\"label\"] = train_labels[1]\n",
    "\n",
    "print(train_samples)"
   ]
  },
  {
   "cell_type": "code",
   "execution_count": 3,
   "metadata": {},
   "outputs": [
    {
     "name": "stdout",
     "output_type": "stream",
     "text": [
      "          id                                               text  label\n",
      "0     109948  E*Zjv mj= Ee($ A@mpe hZ .ycn; *gjlU H&Zn; }kh@...      0\n",
      "1     112283  Xea' }hrAH@m mnSb( Bg:z HA&@@ Erkp@m g*g }k@pm...      0\n",
      "2     102624  HfKW tlWo ack@m qw* A!n= HS|gDX #@* hZ gjhrh y...      1\n",
      "3     111350  Rwya WA'n jr;hgF Tk@yl gh@ @kmAhf gvH frj}: g....      1\n",
      "4     102575  <#XF b}Em RBpf hem@f% A&re h: k: mAHx mkA@m eh...      0\n",
      "...      ...                                                ...    ...\n",
      "2651  104120  nSAbW acrA: am@Ae :.hB rhf#aH cHmf rm=Z}m HSZA...      1\n",
      "2652  100342  rxa( @YHo vCj <zD iex W>B.# dW> RElTp j;W>* ST...      1\n",
      "2653  100410  E>}( gmh% hj}A wNTFj h&eh }mrkj@mk Z@@m gh@A f...      0\n",
      "2654  105158  NE*a EprZ gj}A }m# @kch }m# p@wxK me @.e gfZ}H...      1\n",
      "2655  105300  <xwE rkafj@m rmx% }A =rm(k HhAe ekfre ekfre@m ...      0\n",
      "\n",
      "[2656 rows x 3 columns]\n"
     ]
    }
   ],
   "source": [
    "#citirea si prelucrarea datelor de validare\n",
    "validation_samples = pd.read_csv(\"data/validation_samples.txt\", sep=\"\\n\", header=None)\n",
    "validation_samples[\"id\"] = validation_samples[0].apply(lambda x: int(x.split(\"\\t\")[0]))\n",
    "validation_samples[\"text\"] = validation_samples[0].apply(lambda x : x.split(\"\\t\")[1])\n",
    "validation_samples.drop(validation_samples.columns[0], axis = 1, inplace=True)\n",
    "validation_labels = pd.read_csv(\"data/validation_labels.txt\", sep=\"\\n\", header=None)\n",
    "validation_labels = pd.read_csv(\"data/validation_labels.txt\", sep=\"\\t\", header=None)\n",
    "validation_samples[\"label\"] = validation_labels[1]\n",
    "print(validation_samples)"
   ]
  },
  {
   "cell_type": "code",
   "execution_count": 4,
   "metadata": {},
   "outputs": [
    {
     "name": "stdout",
     "output_type": "stream",
     "text": [
      "          id                                               text\n",
      "0     110499  k>.h j:TW@ 'g cWUX }xDd fzsFU% zq|=p} <p#o #fE...\n",
      "1     101319  :E(Kt mgheA: rjc: E*me@m hZ E*me k: Eg=@m mY*W...\n",
      "2     108883  sXycp '#!@k h@A jeAZ fhkf@m A}Axvn m}mhA:k Ehr...\n",
      "3     100925  KYe mhrkfH Erk. g#>Y XWo !Hcn }k#a <=AzRy mg}:...\n",
      "4     110852  CZH Eheh@Aa@m Effoe@m @(mj E$mhr frmeh g}% Erj...\n",
      "...      ...                                                ...\n",
      "2618  104308  o(A;dY }m# m*g $Zr: a}# m}:k vSDB ErhH# eC.UZs...\n",
      "2619  103429  ;%fE }d*kF eT#$ DCE!Y g@@m >m& me h}Ah m}@ yar...\n",
      "2620  103098  Uc>A# @m=r@m >h&@m oF#BW bU<li fZ} Z=p>B xdm m...\n",
      "2621  107046  fcetS }d*kF skSpj< }hAe XUsY H}m=H S'|h @}lY a...\n",
      "2622  108263  >&X(B <=U$> ($:A amAHa =AH|@ zAh :jaHmk q<H#N ...\n",
      "\n",
      "[2623 rows x 2 columns]\n"
     ]
    }
   ],
   "source": [
    "#citirea si prelucrarea datelor de test\n",
    "test_samples = pd.read_csv(\"data/test_samples.txt\", sep=\"\\n\", header=None)\n",
    "test_samples[\"id\"] = test_samples[0].apply(lambda x: int(x.split(\"\\t\")[0]))\n",
    "test_samples[\"text\"] = test_samples[0].apply(lambda x : x.split(\"\\t\")[1])\n",
    "test_samples.drop(test_samples.columns[0], axis = 1, inplace=True)\n",
    "print(test_samples)"
   ]
  },
  {
   "cell_type": "code",
   "execution_count": 5,
   "metadata": {},
   "outputs": [],
   "source": [
    "#textele de train + validation + test\n",
    "all_texts = train_samples[\"text\"].append(validation_samples[\"text\"], ignore_index=True)\n",
    "all_texts = all_texts.append(test_samples[\"text\"], ignore_index=True)\n",
    "#textele de train + validation\n",
    "train_labels = train_samples[\"label\"].append(validation_samples[\"label\"], ignore_index=True)\n",
    "train_texts = train_samples[\"text\"].append(validation_samples[\"text\"], ignore_index=True)"
   ]
  },
  {
   "cell_type": "code",
   "execution_count": 18,
   "metadata": {},
   "outputs": [],
   "source": [
    "#vectorizea si transformarea textelor pentru a putea fi prelucrate\n",
    "vectorizer = TfidfVectorizer(min_df = 0.0006, max_df = 0.1, lowercase=False, analyzer = 'char', ngram_range = (5,7), decode_error='unicode')\n",
    "vectorizer.fit(all_texts)\n",
    "X = vectorizer.transform(train_samples[\"text\"])\n",
    "Y = vectorizer.transform(train_texts)"
   ]
  },
  {
   "cell_type": "markdown",
   "metadata": {},
   "source": [
    "## Multinomial Naive Bayes classifier"
   ]
  },
  {
   "cell_type": "code",
   "execution_count": 20,
   "metadata": {},
   "outputs": [
    {
     "name": "stdout",
     "output_type": "stream",
     "text": [
      "Validation Bayes:  0.7421848739495799\n",
      "Validation Bayes macro :  0.7069931644031169\n"
     ]
    }
   ],
   "source": [
    "bayes = MultinomialNB(alpha = 0.1) \n",
    "\n",
    "#antrenarea pe train si predictia pe validation\n",
    "bayes.fit(X, train_samples[\"label\"])\n",
    "pred = bayes.predict(vectorizer.transform(validation_samples[\"text\"]))\n",
    "print(\"Validation Bayes: \", f1_score(pred, validation_samples[\"label\"]))\n",
    "print(\"Validation Bayes macro : \", f1_score(pred, validation_samples[\"label\"], average = 'macro'))\n",
    "\n",
    "#antrenarea pe train + validation si predictia pe validation\n",
    "# bayes.fit(Y, train_labels)\n",
    "# pred = bayes.predict(vectorizer.transform(validation_samples[\"text\"]))\n",
    "# print(\"Bayes Antrenat tot: \", f1_score(pred, validation_samples[\"label\"]))\n",
    "\n",
    "# predictia pentru test si scrierea in csv\n",
    "pred_test = bayes.predict(vectorizer.transform(test_samples[\"text\"]))\n",
    "df = pd.DataFrame()\n",
    "df[\"id\"] = test_samples[\"id\"]\n",
    "df[\"label\"] = pred_test\n",
    "df.to_csv(\"Bayes.csv\", index=False)"
   ]
  },
  {
   "cell_type": "code",
   "execution_count": 211,
   "metadata": {},
   "outputs": [
    {
     "name": "stdout",
     "output_type": "stream",
     "text": [
      "              precision    recall  f1-score   support\n",
      "\n",
      "           0       0.76      0.60      0.67      1301\n",
      "           1       0.68      0.81      0.74      1355\n",
      "\n",
      "    accuracy                           0.71      2656\n",
      "   macro avg       0.72      0.71      0.71      2656\n",
      "weighted avg       0.72      0.71      0.71      2656\n",
      "\n"
     ]
    }
   ],
   "source": [
    "#printarea informatiilor modelului\n",
    "print(classification_report(validation_samples[\"label\"], pred))"
   ]
  },
  {
   "cell_type": "code",
   "execution_count": 212,
   "metadata": {},
   "outputs": [
    {
     "data": {
      "image/png": "[encoded data removed]",
      "text/plain": [
       "<Figure size 504x360 with 2 Axes>"
      ]
     },
     "metadata": {
      "needs_background": "light"
     },
     "output_type": "display_data"
    }
   ],
   "source": [
    "#matricea de confuzie\n",
    "cm = confusion_matrix(pred, validation_samples['label'])\n",
    "plt.figure(figsize = (7,5))\n",
    "ax = sn.heatmap(df_cm, annot=True, center = 1500)\n",
    "ax.set_ylim([0,2])\n",
    "#plt.show()\n",
    "plt.savefig(\"cm1.png\")"
   ]
  },
  {
   "cell_type": "markdown",
   "metadata": {},
   "source": [
    "## Complement Naive Bayes classifier"
   ]
  },
  {
   "cell_type": "code",
   "execution_count": 21,
   "metadata": {},
   "outputs": [
    {
     "name": "stdout",
     "output_type": "stream",
     "text": [
      "Validation Bayes:  0.7602153943617358\n",
      "Validation Bayes macro :  0.7044696461367843\n"
     ]
    }
   ],
   "source": [
    "cb = ComplementNB(alpha = 0.1, norm=True) \n",
    "\n",
    "cb.fit(X, train_samples[\"label\"])\n",
    "pred = cb.predict(vectorizer.transform(validation_samples[\"text\"]))\n",
    "print(\"Validation Bayes: \", f1_score(pred, validation_samples[\"label\"]))\n",
    "print(\"Validation Bayes macro : \", f1_score(pred, validation_samples[\"label\"], average = 'macro'))\n",
    "\n",
    "# cb.fit(Y, train_labels)\n",
    "# pred = cb.predict(vectorizer.transform(validation_samples[\"text\"]))\n",
    "# print(\"Bayes Antrenat tot: \", f1_score(pred, validation_samples[\"label\"]))"
   ]
  },
  {
   "cell_type": "code",
   "execution_count": 214,
   "metadata": {},
   "outputs": [
    {
     "name": "stdout",
     "output_type": "stream",
     "text": [
      "              precision    recall  f1-score   support\n",
      "\n",
      "           0       0.82      0.54      0.65      1301\n",
      "           1       0.67      0.89      0.76      1355\n",
      "\n",
      "    accuracy                           0.71      2656\n",
      "   macro avg       0.74      0.71      0.70      2656\n",
      "weighted avg       0.74      0.71      0.71      2656\n",
      "\n"
     ]
    }
   ],
   "source": [
    "print(classification_report(validation_samples[\"label\"], pred))"
   ]
  },
  {
   "cell_type": "code",
   "execution_count": 217,
   "metadata": {},
   "outputs": [
    {
     "data": {
      "image/png": "[encoded data removed]",
      "text/plain": [
       "<Figure size 504x360 with 2 Axes>"
      ]
     },
     "metadata": {
      "needs_background": "light"
     },
     "output_type": "display_data"
    }
   ],
   "source": [
    "cm = confusion_matrix(pred, validation_samples['label'])\n",
    "df_cm = pd.DataFrame(cm)\n",
    "plt.figure(figsize = (7,5))\n",
    "ax = sn.heatmap(df_cm, annot=True, center = 1500)\n",
    "ax.set_ylim([0,2])\n",
    "# plt.show()\n",
    "plt.savefig(\"cm2.png\")"
   ]
  },
  {
   "cell_type": "code",
   "execution_count": null,
   "metadata": {},
   "outputs": [],
   "source": [
    "predictia pentru test si scrierea in csv\n",
    "pred_test = cb..predict(vectorizer.transform(test_samples[\"text\"]))\n",
    "df = pd.DataFrame()\n",
    "df[\"id\"] = test_samples[\"id\"]\n",
    "df[\"label\"] = pred_test\n",
    "df.to_csv(\"ComplementBayes.csv\", index=False)"
   ]
  },
  {
   "cell_type": "markdown",
   "metadata": {},
   "source": [
    "## GridSearch for SVM hyperparameters"
   ]
  },
  {
   "cell_type": "code",
   "execution_count": null,
   "metadata": {},
   "outputs": [],
   "source": [
    "#parametri pe care dorim sa ii testam\n",
    "parameters={'kernel': ('linear', 'rbf'), 'C':[.1, .4, .5, 1, 2, 3, 4, 5, 6, 7, 8, 9, 10]}\n",
    "\n",
    "svc = svm.SVC(gamma='auto')\n",
    "model = GridSearchCV(svc, parameters)\n",
    "model.fit(X, train_samples[\"label\"])\n",
    "\n",
    "#afisarea celor mai buni parametri gasiti\n",
    "model.best_params_"
   ]
  },
  {
   "cell_type": "markdown",
   "metadata": {},
   "source": [
    "## SVM"
   ]
  },
  {
   "cell_type": "code",
   "execution_count": 26,
   "metadata": {},
   "outputs": [
    {
     "name": "stdout",
     "output_type": "stream",
     "text": [
      "Validation SVM:  0.7397174254317113\n",
      "Validation SVM macro:  0.6749833013383286\n"
     ]
    }
   ],
   "source": [
    "svc = svm.SVC(C = 0.4, kernel='linear', gamma='auto', probability = True, tol = 1e-3)\n",
    "\n",
    "svc.fit(X, train_samples[\"label\"])\n",
    "pred = svc.predict(vectorizer.transform(validation_samples[\"text\"]))\n",
    "print(\"Validation SVM: \", f1_score(pred, validation_samples[\"label\"]))\n",
    "print(\"Validation SVM macro: \", f1_score(pred, validation_samples[\"label\"], average = 'macro'))\n",
    "\n",
    "# svc.fit(Y, train_labels)\n",
    "\n",
    "# pred = svc.predict(vectorizer.transform(validation_samples[\"text\"]))\n",
    "# print(\"SVM antrenat tot: \", f1_score(pred, validation_samples[\"label\"]))"
   ]
  },
  {
   "cell_type": "code",
   "execution_count": 14,
   "metadata": {},
   "outputs": [
    {
     "name": "stdout",
     "output_type": "stream",
     "text": [
      "              precision    recall  f1-score   support\n",
      "\n",
      "           0       0.78      0.51      0.62      1301\n",
      "           1       0.65      0.86      0.74      1355\n",
      "\n",
      "    accuracy                           0.69      2656\n",
      "   macro avg       0.72      0.69      0.68      2656\n",
      "weighted avg       0.71      0.69      0.68      2656\n",
      "\n"
     ]
    }
   ],
   "source": [
    "print(classification_report(validation_samples[\"label\"], pred))"
   ]
  },
  {
   "cell_type": "code",
   "execution_count": 17,
   "metadata": {},
   "outputs": [
    {
     "data": {
      "image/png": "[encoded data removed]",
      "text/plain": [
       "<Figure size 504x360 with 2 Axes>"
      ]
     },
     "metadata": {
      "needs_background": "light"
     },
     "output_type": "display_data"
    }
   ],
   "source": [
    "cm = confusion_matrix(pred, validation_samples['label'])\n",
    "df_cm = pd.DataFrame(cm)\n",
    "plt.figure(figsize = (7,5))\n",
    "ax = sn.heatmap(df_cm, annot=True, center = 1500)\n",
    "ax.set_ylim([0,2])\n",
    "# plt.show()\n",
    "plt.savefig(\"cm5.png\")"
   ]
  },
  {
   "cell_type": "code",
   "execution_count": null,
   "metadata": {},
   "outputs": [],
   "source": [
    "#predictia pentru test si scrierea in csv\n",
    "pred_test = svc.predict(vectorizer.transform(test_samples[\"text\"]))\n",
    "df = pd.DataFrame()\n",
    "df[\"id\"] = test_samples[\"id\"]\n",
    "df[\"label\"] = pred_test\n",
    "df.to_csv(\"SVM.csv\", index=False)"
   ]
  },
  {
   "cell_type": "markdown",
   "metadata": {},
   "source": [
    "## GridSearch ans Cross Validation for Naive Bayes hyperparameters"
   ]
  },
  {
   "cell_type": "code",
   "execution_count": 24,
   "metadata": {},
   "outputs": [
    {
     "name": "stdout",
     "output_type": "stream",
     "text": [
      "30000 (5, 7)\n",
      "{'alpha': 0.001}\n",
      "\n",
      "30000 (5, 6)\n",
      "{'alpha': 0.001}\n",
      "\n",
      "30000 (4, 7)\n",
      "{'alpha': 0.005}\n",
      "\n",
      "40000 (5, 7)\n",
      "{'alpha': 0.001}\n",
      "\n",
      "40000 (5, 6)\n",
      "{'alpha': 0.001}\n",
      "\n",
      "40000 (4, 7)\n",
      "{'alpha': 0.2}\n",
      "\n",
      "50000 (5, 7)\n",
      "{'alpha': 0.1}\n",
      "\n",
      "50000 (5, 6)\n",
      "{'alpha': 0.05}\n",
      "\n",
      "50000 (4, 7)\n",
      "{'alpha': 0.001}\n",
      "\n",
      "60000 (5, 7)\n",
      "{'alpha': 0.05}\n",
      "\n",
      "60000 (5, 6)\n",
      "{'alpha': 0.1}\n",
      "\n",
      "60000 (4, 7)\n",
      "{'alpha': 0.001}\n",
      "\n",
      "70000 (5, 7)\n",
      "{'alpha': 0.1}\n",
      "\n",
      "70000 (5, 6)\n",
      "{'alpha': 0.1}\n",
      "\n",
      "70000 (4, 7)\n",
      "{'alpha': 0.001}\n",
      "\n",
      "80000 (5, 7)\n",
      "{'alpha': 0.05}\n",
      "\n",
      "80000 (5, 6)\n",
      "{'alpha': 0.1}\n",
      "\n",
      "80000 (4, 7)\n",
      "{'alpha': 0.005}\n",
      "\n",
      "90000 (5, 7)\n",
      "{'alpha': 0.1}\n",
      "\n",
      "90000 (5, 6)\n",
      "{'alpha': 0.1}\n",
      "\n",
      "90000 (4, 7)\n",
      "{'alpha': 0.05}\n",
      "\n",
      "100000 (5, 7)\n",
      "{'alpha': 0.1}\n",
      "\n",
      "100000 (5, 6)\n",
      "{'alpha': 0.1}\n",
      "\n",
      "100000 (4, 7)\n",
      "{'alpha': 0.05}\n",
      "\n",
      "110000 (5, 7)\n",
      "{'alpha': 0.1}\n",
      "\n",
      "110000 (5, 6)\n",
      "{'alpha': 0.1}\n",
      "\n",
      "110000 (4, 7)\n",
      "{'alpha': 0.01}\n",
      "\n",
      "120000 (5, 7)\n",
      "{'alpha': 0.2}\n",
      "\n",
      "120000 (5, 6)\n",
      "{'alpha': 0.2}\n",
      "\n",
      "120000 (4, 7)\n",
      "{'alpha': 0.05}\n",
      "\n",
      "130000 (5, 7)\n",
      "{'alpha': 0.1}\n",
      "\n",
      "130000 (5, 6)\n",
      "{'alpha': 0.2}\n",
      "\n",
      "130000 (4, 7)\n",
      "{'alpha': 0.05}\n",
      "\n",
      "140000 (5, 7)\n",
      "{'alpha': 0.1}\n",
      "\n",
      "140000 (5, 6)\n",
      "{'alpha': 0.2}\n",
      "\n",
      "140000 (4, 7)\n",
      "{'alpha': 0.05}\n",
      "\n",
      "150000 (5, 7)\n",
      "{'alpha': 0.2}\n",
      "\n",
      "150000 (5, 6)\n",
      "{'alpha': 0.2}\n",
      "\n",
      "150000 (4, 7)\n",
      "{'alpha': 0.05}\n",
      "\n",
      "160000 (5, 7)\n",
      "{'alpha': 0.1}\n",
      "\n",
      "160000 (5, 6)\n",
      "{'alpha': 0.1}\n",
      "\n",
      "160000 (4, 7)\n",
      "{'alpha': 0.01}\n",
      "\n",
      "170000 (5, 7)\n",
      "{'alpha': 0.2}\n",
      "\n",
      "170000 (5, 6)\n",
      "{'alpha': 0.1}\n",
      "\n",
      "170000 (4, 7)\n",
      "{'alpha': 0.05}\n",
      "\n",
      "180000 (5, 7)\n",
      "{'alpha': 0.2}\n",
      "\n",
      "180000 (5, 6)\n",
      "{'alpha': 0.1}\n",
      "\n",
      "180000 (4, 7)\n",
      "{'alpha': 0.05}\n",
      "\n",
      "190000 (5, 7)\n",
      "{'alpha': 0.1}\n",
      "\n",
      "190000 (5, 6)\n",
      "{'alpha': 0.2}\n",
      "\n",
      "190000 (4, 7)\n",
      "{'alpha': 0.1}\n",
      "\n",
      "200000 (5, 7)\n",
      "{'alpha': 0.1}\n",
      "\n",
      "200000 (5, 6)\n",
      "{'alpha': 0.1}\n",
      "\n",
      "200000 (4, 7)\n",
      "{'alpha': 0.05}\n",
      "\n",
      "210000 (5, 7)\n",
      "{'alpha': 0.1}\n",
      "\n",
      "210000 (5, 6)\n",
      "{'alpha': 0.2}\n",
      "\n",
      "210000 (4, 7)\n",
      "{'alpha': 0.05}\n",
      "\n",
      "220000 (5, 7)\n",
      "{'alpha': 0.1}\n",
      "\n",
      "220000 (5, 6)\n",
      "{'alpha': 0.1}\n",
      "\n",
      "220000 (4, 7)\n",
      "{'alpha': 0.05}\n",
      "\n",
      "230000 (5, 7)\n",
      "{'alpha': 0.1}\n",
      "\n",
      "230000 (5, 6)\n",
      "{'alpha': 0.2}\n",
      "\n",
      "230000 (4, 7)\n",
      "{'alpha': 0.05}\n",
      "\n",
      "240000 (5, 7)\n",
      "{'alpha': 0.1}\n",
      "\n",
      "240000 (5, 6)\n",
      "{'alpha': 0.1}\n",
      "\n",
      "240000 (4, 7)\n",
      "{'alpha': 0.1}\n",
      "\n"
     ]
    },
    {
     "data": {
      "text/plain": [
       "array([0.74013465, 0.74418982, 0.74926149, 0.75433303, 0.75402363,\n",
       "       0.75359179, 0.75152678, 0.74732323, 0.74072081])"
      ]
     },
     "execution_count": 24,
     "metadata": {},
     "output_type": "execute_result"
    }
   ],
   "source": [
    "#gridSearch si Cross Validation pentru Multinomial Naive Bayes\n",
    "grid = []\n",
    "n_grams = [(5, 7), (5,6), (4,7)]\n",
    "#cautam cel mai bun numar de features\n",
    "for max_features in range(30000, 250000, 10000):\n",
    "    for n_gram in n_grams:\n",
    "        #cel mai bun umar de n-grame\n",
    "        vectorizer = TfidfVectorizer(max_features=max_features, lowercase=False, analyzer = 'char', ngram_range=n_gram)\n",
    "        X = vectorizer.fit_transform(train_texts)\n",
    "        nb = MultinomialNB()\n",
    "        #cel mai bun parametru alpha\n",
    "        cv = GridSearchCV(nb, {'alpha': [1, 0.7, 0.5, 0.2, 0.1, 0.05, 0.01, 0.005, 0.001]}, scoring='f1', n_jobs=-1, cv=10)\n",
    "        cv.fit(X, train_labels)\n",
    "        grid.append((cv, max_features, n_gram))\n",
    "        print(max_features, n_gram)\n",
    "        print(cv.best_params_)\n",
    "        print()\n",
    "\n",
    "#sortarea mediei rezultatelor si afisarea celui mai bun\n",
    "grid.sort(key = lambda x: x[0].cv_results_['mean_test_score'].mean(), reverse = True)\n",
    "grid[0][0].cv_results_['mean_test_score']"
   ]
  },
  {
   "cell_type": "code",
   "execution_count": 28,
   "metadata": {},
   "outputs": [
    {
     "name": "stdout",
     "output_type": "stream",
     "text": [
      "30000 (5, 7)\n",
      "{'alpha': 0.0001}\n",
      "\n",
      "30000 (5, 6)\n",
      "{'alpha': 0.0001}\n",
      "\n",
      "30000 (4, 7)\n",
      "{'alpha': 0.001}\n",
      "\n",
      "40000 (5, 7)\n",
      "{'alpha': 0.0001}\n",
      "\n",
      "40000 (5, 6)\n",
      "{'alpha': 0.001}\n",
      "\n",
      "40000 (4, 7)\n",
      "{'alpha': 0.0001}\n",
      "\n",
      "50000 (5, 7)\n",
      "{'alpha': 0.01}\n",
      "\n",
      "50000 (5, 6)\n",
      "{'alpha': 0.01}\n",
      "\n",
      "50000 (4, 7)\n",
      "{'alpha': 0.0001}\n",
      "\n",
      "60000 (5, 7)\n",
      "{'alpha': 0.005}\n",
      "\n",
      "60000 (5, 6)\n",
      "{'alpha': 0.1}\n",
      "\n",
      "60000 (4, 7)\n",
      "{'alpha': 0.0001}\n",
      "\n",
      "70000 (5, 7)\n",
      "{'alpha': 0.1}\n",
      "\n",
      "70000 (5, 6)\n",
      "{'alpha': 0.1}\n",
      "\n",
      "70000 (4, 7)\n",
      "{'alpha': 0.001}\n",
      "\n",
      "80000 (5, 7)\n",
      "{'alpha': 0.2}\n",
      "\n",
      "80000 (5, 6)\n",
      "{'alpha': 0.1}\n",
      "\n",
      "80000 (4, 7)\n",
      "{'alpha': 0.005}\n",
      "\n",
      "90000 (5, 7)\n",
      "{'alpha': 0.1}\n",
      "\n",
      "90000 (5, 6)\n",
      "{'alpha': 0.1}\n",
      "\n",
      "90000 (4, 7)\n",
      "{'alpha': 0.005}\n",
      "\n",
      "100000 (5, 7)\n",
      "{'alpha': 0.1}\n",
      "\n",
      "100000 (5, 6)\n",
      "{'alpha': 0.1}\n",
      "\n",
      "100000 (4, 7)\n",
      "{'alpha': 0.01}\n",
      "\n",
      "110000 (5, 7)\n",
      "{'alpha': 0.1}\n",
      "\n",
      "110000 (5, 6)\n",
      "{'alpha': 0.1}\n",
      "\n",
      "110000 (4, 7)\n",
      "{'alpha': 0.01}\n",
      "\n",
      "120000 (5, 7)\n",
      "{'alpha': 0.05}\n",
      "\n",
      "120000 (5, 6)\n",
      "{'alpha': 0.1}\n",
      "\n",
      "120000 (4, 7)\n",
      "{'alpha': 0.05}\n",
      "\n",
      "130000 (5, 7)\n",
      "{'alpha': 0.05}\n",
      "\n",
      "130000 (5, 6)\n",
      "{'alpha': 0.2}\n",
      "\n",
      "130000 (4, 7)\n",
      "{'alpha': 0.05}\n",
      "\n",
      "140000 (5, 7)\n",
      "{'alpha': 0.1}\n",
      "\n",
      "140000 (5, 6)\n",
      "{'alpha': 0.2}\n",
      "\n",
      "140000 (4, 7)\n",
      "{'alpha': 0.05}\n",
      "\n",
      "150000 (5, 7)\n",
      "{'alpha': 0.2}\n",
      "\n",
      "150000 (5, 6)\n",
      "{'alpha': 0.05}\n",
      "\n",
      "150000 (4, 7)\n",
      "{'alpha': 0.01}\n",
      "\n",
      "160000 (5, 7)\n",
      "{'alpha': 0.1}\n",
      "\n",
      "160000 (5, 6)\n",
      "{'alpha': 0.1}\n",
      "\n",
      "160000 (4, 7)\n",
      "{'alpha': 0.01}\n",
      "\n",
      "170000 (5, 7)\n",
      "{'alpha': 0.1}\n",
      "\n",
      "170000 (5, 6)\n",
      "{'alpha': 0.1}\n",
      "\n",
      "170000 (4, 7)\n",
      "{'alpha': 0.01}\n",
      "\n",
      "180000 (5, 7)\n",
      "{'alpha': 0.1}\n",
      "\n",
      "180000 (5, 6)\n",
      "{'alpha': 0.1}\n",
      "\n",
      "180000 (4, 7)\n",
      "{'alpha': 0.05}\n",
      "\n",
      "190000 (5, 7)\n",
      "{'alpha': 0.1}\n",
      "\n",
      "190000 (5, 6)\n",
      "{'alpha': 0.2}\n",
      "\n",
      "190000 (4, 7)\n",
      "{'alpha': 0.05}\n",
      "\n",
      "200000 (5, 7)\n",
      "{'alpha': 0.1}\n",
      "\n",
      "200000 (5, 6)\n",
      "{'alpha': 0.1}\n",
      "\n",
      "200000 (4, 7)\n",
      "{'alpha': 0.05}\n",
      "\n",
      "210000 (5, 7)\n",
      "{'alpha': 0.1}\n",
      "\n",
      "210000 (5, 6)\n",
      "{'alpha': 0.1}\n",
      "\n",
      "210000 (4, 7)\n",
      "{'alpha': 0.05}\n",
      "\n",
      "220000 (5, 7)\n",
      "{'alpha': 0.1}\n",
      "\n",
      "220000 (5, 6)\n",
      "{'alpha': 0.1}\n",
      "\n",
      "220000 (4, 7)\n",
      "{'alpha': 0.05}\n",
      "\n",
      "230000 (5, 7)\n",
      "{'alpha': 0.1}\n",
      "\n",
      "230000 (5, 6)\n",
      "{'alpha': 0.1}\n",
      "\n",
      "230000 (4, 7)\n",
      "{'alpha': 0.05}\n",
      "\n",
      "240000 (5, 7)\n",
      "{'alpha': 0.1}\n",
      "\n",
      "240000 (5, 6)\n",
      "{'alpha': 0.1}\n",
      "\n",
      "240000 (4, 7)\n",
      "{'alpha': 0.05}\n",
      "\n"
     ]
    },
    {
     "data": {
      "text/plain": [
       "array([0.7362271 , 0.7418522 , 0.74698449, 0.75130258, 0.75325131,\n",
       "       0.75359602, 0.75389954, 0.75012552, 0.74636113, 0.73943826,\n",
       "       0.72814786])"
      ]
     },
     "execution_count": 28,
     "metadata": {},
     "output_type": "execute_result"
    }
   ],
   "source": [
    "#gridSearch si Cross Validation pentru Complement Naive Bayes\n",
    "gridC = []\n",
    "n_grams = [(5, 7), (5,6), (4,7)]\n",
    "for max_features in range(30000, 250000, 10000):\n",
    "    for n_gram in n_grams:\n",
    "        vectorizer = TfidfVectorizer(max_features=max_features, lowercase=False, analyzer = 'char', ngram_range=n_gram)\n",
    "        X = vectorizer.fit_transform(train_texts)\n",
    "        nb = ComplementNB()\n",
    "        cv = GridSearchCV(nb, {'alpha': [1, 0.7, 0.5, 0.3, 0.2, 0.1, 0.05, 0.01, 0.005, 0.001, 0.0001]}, scoring='f1', n_jobs=-1, cv=10)\n",
    "        cv.fit(X, train_labels)\n",
    "        gridC.append((cv, max_features, n_gram))\n",
    "        print(max_features, n_gram)\n",
    "        print(cv.best_params_)\n",
    "        print()\n",
    "gridC.sort(key = lambda x: x[0].cv_results_['mean_test_score'].mean(), reverse = True)\n",
    "gridC[0][0].cv_results_['mean_test_score']"
   ]
  },
  {
   "cell_type": "markdown",
   "metadata": {},
   "source": [
    "## Vote function"
   ]
  },
  {
   "cell_type": "code",
   "execution_count": 22,
   "metadata": {},
   "outputs": [],
   "source": [
    "def vote(models, X):\n",
    "    results = []\n",
    "    for model in models:\n",
    "        pred = model.predict(X)\n",
    "        results.append(pred)\n",
    "    n = len(results) / 2\n",
    "    df = pd.DataFrame(results)\n",
    "    df = df.transpose()\n",
    "    df['vote'] = df.apply(lambda row: (1 if sum(row) >= n else 0), axis=1)\n",
    "    return df"
   ]
  },
  {
   "cell_type": "code",
   "execution_count": 25,
   "metadata": {},
   "outputs": [],
   "source": [
    "#cel mai bun rezultat obtinut pana acum(Bayes cu min_df = 0.0005, ngram_range = (5,7))\n",
    "rez = pd.read_csv(\"BayesTry.csv\")\n",
    "\n",
    "#rezultatul de la GridSearch pentru Multinomial Naive Bayes\n",
    "vectorizer = TfidfVectorizer(max_features=120000,lowercase=False, analyzer = 'char', ngram_range = (5,7))\n",
    "vectorizer.fit(all_texts)\n",
    "Y = vectorizer.transform(train_texts)\n",
    "\n",
    "nb = MultinomialNB(alpha=0.2)\n",
    "nb.fit(Y, train_labels)\n",
    "\n",
    "#rezultat GridSearch pentru Complement Naive Bayes\n",
    "cb = ComplementNB(0.05)\n",
    "cb.fit(Y, train_labels)\n",
    "\n",
    "df = vote([nb, cb], vectorizer.transform(test_samples[\"text\"]))\n",
    "df = df.drop(\"vote\", axis=1)\n",
    "df[2] = rez[\"label\"]\n",
    "df['vote'] = df.apply(lambda row: (1 if sum(row) >= 2 else 0), axis=1)\n",
    "\n",
    "d = pd.DataFrame()\n",
    "d[\"id\"] = test_samples[\"id\"]\n",
    "d[\"label\"] = df['vote']\n",
    "d.to_csv(\"Vote.csv\", index=False)"
   ]
  }
 ],
 "metadata": {
  "kernelspec": {
   "display_name": "Python 3",
   "language": "python",
   "name": "python3"
  },
  "language_info": {
   "codemirror_mode": {
    "name": "ipython",
    "version": 3
   },
   "file_extension": ".py",
   "mimetype": "text/x-python",
   "name": "python",
   "nbconvert_exporter": "python",
   "pygments_lexer": "ipython3",
   "version": "3.7.4"
  }
 },
 "nbformat": 4,
 "nbformat_minor": 2
}
